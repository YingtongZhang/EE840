{
 "cells": [
  {
   "cell_type": "markdown",
   "id": "92895e33",
   "metadata": {},
   "source": [
    "### Usage\n",
    "frame_dir - directory with sequentially ordered frames. All frames must start\n",
    "with the string 'frame'.\n",
    "fps - integer frames per second\n",
    "out_file - path for the output movie file. Recommended file extension is '.mp4'.\n"
   ]
  },
  {
   "cell_type": "code",
   "execution_count": 1,
   "id": "54a2013c",
   "metadata": {},
   "outputs": [],
   "source": [
    "import os\n",
    "import sys\n",
    "import cv2\n",
    "import subprocess\n",
    "import warnings\n",
    "from moviepy.editor import ImageSequenceClip, AudioFileClip\n",
    "from glob import glob"
   ]
  },
  {
   "cell_type": "code",
   "execution_count": 2,
   "id": "79b2324a",
   "metadata": {},
   "outputs": [],
   "source": [
    "def main(frame_dir, fps, out_file, search_str='frame*', audio_path=None, pad_color=None, ):\n",
    "    \n",
    "    # import pdb; pdb.set_trace()\n",
    "    if not os.path.exists(frame_dir):\n",
    "        sys.exit('\\nframe_dir does not exist:\\n%s\\n' % frame_dir)\n",
    "    fps = int(fps)\n",
    "    \n",
    "    \n",
    "    frames = sorted(glob(os.path.join(frame_dir, search_str)))\n",
    "    if len(frames) == 0:\n",
    "        sys.exit('\\nNo frames found with search string \"frames*\". ' +\\\n",
    "                    'Check frame_dir:\\n%s\\n' % frame_dir) \n",
    "    \n",
    "    \n",
    "    # Check if n rows and cols are even\n",
    "    #   Just open the first image\n",
    "    ar = cv2.imread(frames[0])\n",
    "    nrows, ncols, n_channels = ar.shape\n",
    "    even_rows = (nrows % 2) == 0\n",
    "    even_cols = (ncols % 2) == 0\n",
    "    if not pad_color and not (even_rows or even_cols):\n",
    "        msg = 'Number of rows or cols not even but no pad_color specified.'+\\\n",
    "            ' Using moviepy instead of ffmpeg...'\n",
    "        warnings.warn(msg)\n",
    "        clip = ImageSequenceClip(frames, fps=fps)\n",
    "        if audio_path:\n",
    "            audio = AudioFileClip(audio_path)\n",
    "            clip.set_audio(audio) # This doesn't seem to work for some reason\n",
    "        clip.write_videofile(out_file, fps=fps)#'''\n",
    "        \n",
    "        return out_file\n",
    "    \n",
    "    if not pad_color:\n",
    "        msg = '' \n",
    "        pad_color = '000000'\n",
    "    '''if type(pad_color) != str or type(pad_color) != unicode:\n",
    "        raise TypeError('pad_color type given was %s' % type(pad_color))'''\n",
    "    \n",
    "    search_str = os.path.join(frame_dir, search_str)\n",
    "    pad_flag = ''\n",
    "    if not even_rows or not even_cols:\n",
    "        hexcolor ='0x' + pad_color\n",
    "        pad_flag= ' -vf pad=\"width=iw:height=ih+1:x=0:y=0:color=%s\"' % hexcolor\n",
    "    cmd = 'ffmpeg -y -loglevel error -f image2 -r {fps} -pattern_type glob -i \"{search_str}\" -vcodec libx264 -pix_fmt yuv420p{pad} {out_file}'.format(fps=fps, search_str=search_str, pad=pad_flag, out_file=out_file)\n",
    "    subprocess.call(cmd, shell=True)\n",
    "    \n",
    "    print('Movie written to ', out_file)\n"
   ]
  },
  {
   "cell_type": "code",
   "execution_count": 6,
   "id": "8edde110",
   "metadata": {},
   "outputs": [
    {
     "name": "stdout",
     "output_type": "stream",
     "text": [
      "Movie written to  /Users/yingtong/Codes/EE840/Animation/mass_fps30_v0.mp4\n"
     ]
    }
   ],
   "source": [
    "if __name__ == '__main__':\n",
    "    #args = sys.argv[1:]\n",
    "    #sys.exit(main(*args))\n",
    "    \n",
    "    frame_dir = r'/Volumes/GoogleDrive/My Drive/PhD/Courses/TF/Output/frames'\n",
    "    fps = 30\n",
    "    out_file = r'/Users/yingtong/Codes/EE840/Animation/LZ_animation.mp4'\n",
    "    main(frame_dir, fps, out_file)\n",
    "    "
   ]
  },
  {
   "cell_type": "code",
   "execution_count": null,
   "id": "50f6c011",
   "metadata": {},
   "outputs": [],
   "source": []
  },
  {
   "cell_type": "code",
   "execution_count": null,
   "id": "d46e4dc2",
   "metadata": {},
   "outputs": [],
   "source": []
  },
  {
   "cell_type": "code",
   "execution_count": null,
   "id": "7c708ec3",
   "metadata": {},
   "outputs": [],
   "source": []
  }
 ],
 "metadata": {
  "kernelspec": {
   "display_name": "Python 3 (ipykernel)",
   "language": "python",
   "name": "python3"
  },
  "language_info": {
   "codemirror_mode": {
    "name": "ipython",
    "version": 3
   },
   "file_extension": ".py",
   "mimetype": "text/x-python",
   "name": "python",
   "nbconvert_exporter": "python",
   "pygments_lexer": "ipython3",
   "version": "3.9.7"
  }
 },
 "nbformat": 4,
 "nbformat_minor": 5
}
